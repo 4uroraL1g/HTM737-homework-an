{
 "cells": [
  {
   "cell_type": "code",
   "execution_count": 1,
   "metadata": {},
   "outputs": [],
   "source": [
    "mname = 'John'"
   ]
  },
  {
   "cell_type": "code",
   "execution_count": 2,
   "metadata": {},
   "outputs": [
    {
     "name": "stdout",
     "output_type": "stream",
     "text": [
      "Hello, John!\n"
     ]
    }
   ],
   "source": [
    "print(f'Hello, {mname}!') # prints \"Hello, John!\""
   ]
  },
  {
   "cell_type": "code",
   "execution_count": 3,
   "metadata": {},
   "outputs": [
    {
     "name": "stdout",
     "output_type": "stream",
     "text": [
      "J\n"
     ]
    }
   ],
   "source": [
    "print(mname[0]) # prints the first character of the string mname"
   ]
  },
  {
   "cell_type": "code",
   "execution_count": 4,
   "metadata": {},
   "outputs": [
    {
     "name": "stdout",
     "output_type": "stream",
     "text": [
      "Jo\n"
     ]
    }
   ],
   "source": [
    "print(mname[0:2]) # prints two characters of the string mname\n",
    "#the first character is at index 0, and the second character is at index 1, we count from 0 and stop before 2"
   ]
  },
  {
   "cell_type": "code",
   "execution_count": 5,
   "metadata": {},
   "outputs": [],
   "source": [
    "MCPHS_zip = '02115-1234'"
   ]
  },
  {
   "cell_type": "code",
   "execution_count": 6,
   "metadata": {},
   "outputs": [
    {
     "name": "stdout",
     "output_type": "stream",
     "text": [
      "02115\n"
     ]
    }
   ],
   "source": [
    "print(MCPHS_zip[0:5]) # prints the first five characters of the string MCPHS_zip"
   ]
  },
  {
   "cell_type": "code",
   "execution_count": 7,
   "metadata": {},
   "outputs": [
    {
     "name": "stdout",
     "output_type": "stream",
     "text": [
      "John is 65 years old.\n"
     ]
    }
   ],
   "source": [
    "john_age = 65\n",
    "print(f'{mname} is {john_age} years old.') # prints \"John is 65 years old.\""
   ]
  },
  {
   "cell_type": "code",
   "execution_count": null,
   "metadata": {},
   "outputs": [
    {
     "name": "stdout",
     "output_type": "stream",
     "text": [
      "<class 'float'>\n"
     ]
    }
   ],
   "source": [
    "john_weight = 180.7 # weight in pounds, float type\n",
    "print(type(john_weight)) # prints <class 'float'>, or the type of john_weight"
   ]
  },
  {
   "cell_type": "code",
   "execution_count": 9,
   "metadata": {},
   "outputs": [
    {
     "name": "stdout",
     "output_type": "stream",
     "text": [
      "180\n"
     ]
    }
   ],
   "source": [
    "john_weight_int = int(john_weight) # converting float to int, we can do the opposite too\n",
    "print(john_weight_int) # prints 180 \n",
    "# the decimal part is cut when converting from float to int"
   ]
  },
  {
   "cell_type": "code",
   "execution_count": null,
   "metadata": {},
   "outputs": [
    {
     "name": "stdout",
     "output_type": "stream",
     "text": [
      "a\n"
     ]
    }
   ],
   "source": [
    "My_list = ['a', 1, 2.5, True]\n",
    "print(My_list[0]) # prints 'a', or the first element of the list"
   ]
  },
  {
   "cell_type": "code",
   "execution_count": 11,
   "metadata": {},
   "outputs": [
    {
     "name": "stdout",
     "output_type": "stream",
     "text": [
      "['A', 1, 2.5, True]\n"
     ]
    }
   ],
   "source": [
    "My_list[0] = My_list[0].upper() # change the first element of the list to uppercase\n",
    "print(My_list) # prints ['A', 1, 2.5, True]"
   ]
  },
  {
   "cell_type": "code",
   "execution_count": 12,
   "metadata": {},
   "outputs": [],
   "source": [
    "My_list[0] = 'AB' # change the first element of the list to 'AB'"
   ]
  },
  {
   "cell_type": "code",
   "execution_count": 13,
   "metadata": {},
   "outputs": [
    {
     "name": "stdout",
     "output_type": "stream",
     "text": [
      "a\n"
     ]
    }
   ],
   "source": [
    "My_tuple = ('a', 1, 2.5, True) # tuples are immutable, meaning we cannot change their elements\n",
    "print(My_tuple[0]) # prints 'a'"
   ]
  },
  {
   "cell_type": "code",
   "execution_count": 14,
   "metadata": {},
   "outputs": [
    {
     "ename": "TypeError",
     "evalue": "'tuple' object does not support item assignment",
     "output_type": "error",
     "traceback": [
      "\u001b[0;31m---------------------------------------------------------------------------\u001b[0m",
      "\u001b[0;31mTypeError\u001b[0m                                 Traceback (most recent call last)",
      "Cell \u001b[0;32mIn[14], line 1\u001b[0m\n\u001b[0;32m----> 1\u001b[0m tuple_try \u001b[38;5;241m=\u001b[39m My_tuple[\u001b[38;5;241m0\u001b[39m] \u001b[38;5;241m=\u001b[39m \u001b[38;5;124m'\u001b[39m\u001b[38;5;124mAB\u001b[39m\u001b[38;5;124m'\u001b[39m\n",
      "\u001b[0;31mTypeError\u001b[0m: 'tuple' object does not support item assignment"
     ]
    }
   ],
   "source": [
    "tuple_try = My_tuple[0] = 'AB' # this will give an error because tuples are immutable"
   ]
  },
  {
   "cell_type": "code",
   "execution_count": 15,
   "metadata": {},
   "outputs": [
    {
     "name": "stdout",
     "output_type": "stream",
     "text": [
      "John\n"
     ]
    }
   ],
   "source": [
    "My_dict = {'name': 'John', 'age': 65, 'weight': 180.7} # dictionary need key-value pairs\n",
    "print(My_dict['name']) # prints 'John'"
   ]
  },
  {
   "cell_type": "code",
   "execution_count": 16,
   "metadata": {},
   "outputs": [
    {
     "name": "stdout",
     "output_type": "stream",
     "text": [
      "{1, 2.5, 'a'}\n"
     ]
    }
   ],
   "source": [
    "My_set = {'a', 1, 2.5, True} # sets are unordered collections of unique elements\n",
    "print(My_set) # prints the set, order may vary"
   ]
  },
  {
   "cell_type": "code",
   "execution_count": null,
   "metadata": {},
   "outputs": [],
   "source": [
    "# a function include definition and a return statement\n",
    "def f_to_c(f_temp):\n",
    "    c_temp = round((f_temp - 32) * 5.0/9.0)\n",
    "    return c_temp"
   ]
  },
  {
   "cell_type": "code",
   "execution_count": 27,
   "metadata": {},
   "outputs": [
    {
     "name": "stdout",
     "output_type": "stream",
     "text": [
      "12\n"
     ]
    }
   ],
   "source": [
    "print(f_to_c(53)) # prints the celsius equivalent of 53 Fahrenheit"
   ]
  },
  {
   "cell_type": "code",
   "execution_count": null,
   "metadata": {},
   "outputs": [],
   "source": [
    "def BMI_calculator(weight, height): #you have to respect the order of the input arguments\n",
    "    BMI = round(weight / (height ** 2)) # BMI formula in metric units\n",
    "    if BMI < 18.5: #if, elif, else statements to categorize BMI\n",
    "        category = 'underweight'\n",
    "    elif 18.5 <= BMI < 24.9:\n",
    "        category = 'normal weight'\n",
    "    elif 25 <= BMI < 29.9: \n",
    "        category = 'overweight'\n",
    "    else:\n",
    "        category = 'obesity'\n",
    "    return BMI, category"
   ]
  },
  {
   "cell_type": "code",
   "execution_count": null,
   "metadata": {},
   "outputs": [
    {
     "name": "stdout",
     "output_type": "stream",
     "text": [
      "BMI: 24, Category: normal weight\n"
     ]
    }
   ],
   "source": [
    "BMI, category = BMI_calculator(70, 1.70) # weight in kg, height in meters \n",
    "print(f\"BMI: {BMI}, Category: {category}\")"
   ]
  },
  {
   "cell_type": "code",
   "execution_count": null,
   "metadata": {},
   "outputs": [],
   "source": []
  }
 ],
 "metadata": {
  "kernelspec": {
   "display_name": "base",
   "language": "python",
   "name": "python3"
  },
  "language_info": {
   "codemirror_mode": {
    "name": "ipython",
    "version": 3
   },
   "file_extension": ".py",
   "mimetype": "text/x-python",
   "name": "python",
   "nbconvert_exporter": "python",
   "pygments_lexer": "ipython3",
   "version": "3.10.18"
  }
 },
 "nbformat": 4,
 "nbformat_minor": 2
}
