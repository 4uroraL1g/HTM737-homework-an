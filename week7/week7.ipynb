{
 "cells": [
  {
   "cell_type": "code",
   "execution_count": null,
   "metadata": {},
   "outputs": [],
   "source": [
    "import pandas as pd\n",
    "from datetime import datetime"
   ]
  },
  {
   "cell_type": "code",
   "execution_count": 2,
   "metadata": {},
   "outputs": [],
   "source": [
    "# note: python is case-sensitive\n",
    "# Pandas is not the same as pandas\n",
    "# DateTime is not the same as datetime"
   ]
  },
  {
   "cell_type": "code",
   "execution_count": 4,
   "metadata": {},
   "outputs": [],
   "source": [
    "My_List = [1, 2, 3, 4, 5]\n",
    "My_df = pd.DataFrame(My_List, columns=['Numbers'])"
   ]
  },
  {
   "cell_type": "code",
   "execution_count": 5,
   "metadata": {},
   "outputs": [
    {
     "name": "stdout",
     "output_type": "stream",
     "text": [
      "   Numbers\n",
      "0        1\n",
      "1        2\n",
      "2        3\n",
      "3        4\n",
      "4        5\n"
     ]
    }
   ],
   "source": [
    "print(My_df)"
   ]
  },
  {
   "cell_type": "code",
   "execution_count": 3,
   "metadata": {},
   "outputs": [
    {
     "name": "stdout",
     "output_type": "stream",
     "text": [
      "  Pid    Fname Minit   Lname      Bdate               Street         City  \\\n",
      "0   1     John     A   Smith 1952-01-01  1206 Fox Hollow Rd.   Pittsburgh   \n",
      "1   2  Candice     P   Jones 1978-02-03       1429 Orlyn Dr.  Los Angeles   \n",
      "2   3   Regina     H  Wilson 1985-04-23     765 Chestnut Ln.       Albany   \n",
      "3   4   Harold           Lee 1966-11-15      2928 Policy St.   Providence   \n",
      "4   5     Stan     P   Davis 1958-12-30        4271 12th St.      Atlanta   \n",
      "\n",
      "  State    Zip       Phone Sex  \n",
      "0    PA  15213  6789871234   M  \n",
      "1    CA  90024  3107381419   F  \n",
      "2    NY  12065  5184590206   F  \n",
      "3    RI  02912  6593482691   M  \n",
      "4    GA  30339  4049814933   M  \n"
     ]
    }
   ],
   "source": [
    "# PATIENT table\n",
    "patient_data = [\n",
    "    ['1', 'John', 'A', 'Smith', '1952-01-01', '1206 Fox Hollow Rd.', 'Pittsburgh', 'PA', '15213', '6789871234', 'M'],\n",
    "    ['2', 'Candice', 'P', 'Jones', '1978-02-03', '1429 Orlyn Dr.', 'Los Angeles', 'CA', '90024', '3107381419', 'F'],\n",
    "    ['3', 'Regina', 'H', 'Wilson', '1985-04-23', '765 Chestnut Ln.', 'Albany', 'NY', '12065', '5184590206', 'F'],\n",
    "    ['4', 'Harold', '', 'Lee', '1966-11-15', '2928 Policy St.', 'Providence', 'RI', '02912', '6593482691', 'M'],\n",
    "    ['5', 'Stan', 'P', 'Davis', '1958-12-30', '4271 12th St.', 'Atlanta', 'GA', '30339', '4049814933', 'M']\n",
    "]\n",
    "PATIENT = pd.DataFrame(patient_data, columns=['Pid', 'Fname', 'Minit', 'Lname', 'Bdate', 'Street', 'City', 'State', 'Zip', 'Phone', 'Sex'])\n",
    "PATIENT['Bdate'] = pd.to_datetime(PATIENT['Bdate'])\n",
    "\n",
    "# VISIT table\n",
    "visit_data = [\n",
    "    ['1', '10001', '2016-01-09', 'JOHNSON', 'I50.9', 'Heart failure, unspecified', 'I10', 'Essential (primary) hypertension'],\n",
    "    ['1', '10002', '2016-01-17', 'JOHNSON', 'I50.9', 'Heart failure, unspecified', 'I10', 'Essential (primary) hypertension'],\n",
    "    ['2', '10003', '2016-01-15', 'WU', 'I20.9', 'Angina pectoris, unspecified', 'E11.9', 'Type 2 diabetes mellitus without complications'],\n",
    "    ['3', '10004', '2016-02-01', 'JOHNSON', 'I10', 'Essential (primary) hypertension', '', ''],\n",
    "    ['4', '10005', '2016-02-27', 'WU', 'I27.0', 'Primary pulmonary hypertension', 'I50.9', 'Heart failure, unspecified'],\n",
    "    ['5', '10006', '2016-03-01', 'WU', 'I50.9', 'Heart failure, unspecified', 'E11.9', 'Type 2 diabetes mellitus without complications']\n",
    "]\n",
    "VISIT = pd.DataFrame(visit_data, columns=['Pid', 'Visit_id', 'Visit_date', 'Attending_md', 'Pri_dx_icd', 'Pri_dx_name', 'Sec_dx_icd', 'Sec_dx_name'])\n",
    "VISIT['Visit_date'] = pd.to_datetime(VISIT['Visit_date'])\n",
    "\n",
    "# MEDICATIONS table\n",
    "medications_data = [\n",
    "    ['1', 'LISINOPRIL', '5 mg', 'bid', 'po', 'JOHNSON', '01/09/2016', '68180-513-01'],\n",
    "    ['1', 'FUROSEMIDE', '20 mg', 'bid', 'po', 'JOHNSON', '01/09/2016', '50742-104-01'],\n",
    "    ['2', 'NITROGLYCERIN', '0.4 mg', 'tid', 'sl', 'WU', '01/15/2016', '59762-3304-1'],\n",
    "    ['2', 'METFORMIN', '500 mg', 'bid', 'po', 'WU', '01/15/2016', '65162-175-10'],\n",
    "    ['2', 'ASPIRIN', '81 mg', 'qdaily', 'po', 'WU', '01/15/2016', '63981-563-51'],\n",
    "    ['2', 'METOPROLOL TARTRATE', '25 mg', 'bid', 'po', 'WU', '01/15/2016', '62332-112-31'],\n",
    "    ['3', 'VALSARTAN HCTZ', '160/12.5 mg', 'qdaily', 'po', 'JOHNSON', '02/01/2016', '51655-950-52'],\n",
    "    ['4', 'DILTIAZEM HYDROCHOLORIDE', '300 mg', 'qdaily', 'po', 'WU', '02/27/2016', '52544-693-19'],\n",
    "    ['4', 'LISINOPRIL', '10 mg', 'bid', 'po', 'WU', '02/27/2016', '68180-514-01'],\n",
    "    ['4', 'FUROSEMIDE', '40 mg', 'bid', 'po', 'WU', '02/27/2016', '68788-1966-1'],\n",
    "    ['5', 'LISINOPRIL', '5 mg', 'bid', 'po', 'WU', '03/01/2016', '68180-513-01'],\n",
    "    ['5', 'FUROSEMIDE', '20 mg', 'bid', 'po', 'WU', '03/01/2016', '50742-104-01'],\n",
    "    ['5', 'METFORMIN', '500 mg', 'bid', 'po', 'WU', '03/01/2016', '65162-175-10']\n",
    "]\n",
    "MEDICATIONS = pd.DataFrame(medications_data, columns=['Pid', 'Rx_name', 'Rx_dose', 'Rx_freq', 'Rx_route', 'Prescribing_md', 'Rx_date', 'Rx_ndc'])\n",
    "MEDICATIONS['Rx_date'] = pd.to_datetime(MEDICATIONS['Rx_date'])\n",
    "\n",
    "# LABS table\n",
    "labs_data = [\n",
    "    ['1', 'Natriuretic peptide B', 'BNP', '42637-9', '350', 'JOHNSON', '2016-01-09'],\n",
    "    ['2', 'Natriuretic peptide B', 'BNP', '42637-9', '100', 'WU', '2016-01-15'],\n",
    "    ['2', 'Glucose', 'GLU', '2345-7', '225', 'WU', '2016-01-15'],\n",
    "    ['2', 'Troponin I', 'TROP', '10839-9', '<0.004', 'WU', '2016-01-15'],\n",
    "    ['4', 'Natriuretic peptide B', 'BNP', '42637-9', '1000', 'WU', '2016-02-27'],\n",
    "    ['5', 'Natriuretic peptide B', 'BNP', '42637-9', '400', 'WU', '2016-03-01'],\n",
    "    ['5', 'Glucose', 'GLU', '2345-7', '318', 'WU', '2016-03-01']\n",
    "]\n",
    "LABS = pd.DataFrame(labs_data, columns=['Pid', 'Lab_name', 'Lab_abbrev', 'Lab_loinc', 'Lab_value', 'Ordering_md', 'Lab_date'])\n",
    "LABS['Lab_date'] = pd.to_datetime(LABS['Lab_date'])\n",
    "\n",
    "# VITALS table\n",
    "vitals_data = [\n",
    "    ['1', '10001', 70, 188.4, 98.6, 95, 18, 154, 94, 97],\n",
    "    ['1', '10002', 70, 188.4, 99.1, 85, 17, 157, 96, 100],\n",
    "    ['2', '10003', 63, 130.2, 98.7, 82, 16, 120, 81, 100],\n",
    "    ['3', '10004', 65, 120.0, None, 100, 19, 161, 100, 98],\n",
    "    ['4', '10005', 66, 211.4, 98.2, 95, 19, 143, 84, 93],\n",
    "    ['5', '10006', 69, 150.0, 97.6, 77, 18, 130, 86, 99]\n",
    "]\n",
    "VITALS = pd.DataFrame(vitals_data, columns=['Pid', 'Visit_id', 'Height_in', 'Weight_lb', 'Temp_f', 'Pulse', 'Resp_rate', 'Bp_syst', 'Bp_diast', 'SpO2'])\n",
    "\n",
    "# MORT table\n",
    "mort_data = [\n",
    "    ['1', '2016-05-15'],\n",
    "    ['4', '2016-06-08']\n",
    "]\n",
    "MORT = pd.DataFrame(mort_data, columns=['Pid', 'Mortality_date'])\n",
    "MORT['Mortality_date'] = pd.to_datetime(MORT['Mortality_date'])\n",
    "\n",
    "# Display sample data\n",
    "print(PATIENT)"
   ]
  },
  {
   "cell_type": "code",
   "execution_count": null,
   "metadata": {},
   "outputs": [],
   "source": []
  }
 ],
 "metadata": {
  "kernelspec": {
   "display_name": "base",
   "language": "python",
   "name": "python3"
  },
  "language_info": {
   "codemirror_mode": {
    "name": "ipython",
    "version": 3
   },
   "file_extension": ".py",
   "mimetype": "text/x-python",
   "name": "python",
   "nbconvert_exporter": "python",
   "pygments_lexer": "ipython3",
   "version": "3.10.18"
  }
 },
 "nbformat": 4,
 "nbformat_minor": 2
}
