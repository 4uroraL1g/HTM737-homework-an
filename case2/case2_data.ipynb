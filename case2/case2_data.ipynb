{
 "cells": [
  {
   "cell_type": "markdown",
   "metadata": {},
   "source": [
    "# Import Required Libraries\n",
    "Import necessary libraries including pandas for data manipulation, matplotlib and seaborn for visualization."
   ]
  },
  {
   "cell_type": "code",
   "execution_count": null,
   "metadata": {},
   "outputs": [],
   "source": [
    "import pandas as pd  # For data manipulation and analysis\n",
    "import matplotlib.pyplot as plt  # For creating static visualizations\n",
    "import seaborn as sns  # For enhanced data visualizations\n",
    "\n",
    "# Set seaborn style for all plots\n",
    "sns.set_theme(style=\"whitegrid\")"
   ]
  },
  {
   "cell_type": "markdown",
   "metadata": {},
   "source": [
    "# Load and Explore the Dataset\n",
    "Load the data.csv file using pandas, display the first few rows, check data types, and generate basic descriptive statistics."
   ]
  },
  {
   "cell_type": "code",
   "execution_count": null,
   "metadata": {},
   "outputs": [],
   "source": [
    "# Load the dataset\n",
    "data = pd.read_csv(\"data.csv\")\n",
    "\n",
    "# Display the first few rows of the dataset\n",
    "print(data.head())\n",
    "\n",
    "# Check the data types of each column\n",
    "print(data.dtypes)\n",
    "\n",
    "# Generate basic descriptive statistics for the dataset\n",
    "print(data.describe(include=\"all\"))"
   ]
  },
  {
   "cell_type": "markdown",
   "metadata": {},
   "source": [
    "# Graph 1: Maternal Smoker Distribution (Bar Chart)\n",
    "Create a bar chart showing the count of maternal smokers (True) vs non-smokers (False) to visualize the proportion for hypothesis testing."
   ]
  },
  {
   "cell_type": "code",
   "execution_count": null,
   "metadata": {},
   "outputs": [],
   "source": [
    "# Count the number of smokers (True) and non-smokers (False)\n",
    "smoker_counts = data['Maternal Smoker'].value_counts()\n",
    "\n",
    "# Create a bar chart for maternal smoker distribution\n",
    "plt.figure(figsize=(8, 6))\n",
    "sns.barplot(x=smoker_counts.index, y=smoker_counts.values, palette=\"pastel\")\n",
    "plt.title(\"Maternal Smoker Distribution\", fontsize=16)\n",
    "plt.xlabel(\"Maternal Smoker\", fontsize=12)\n",
    "plt.ylabel(\"Count\", fontsize=12)\n",
    "plt.xticks([0, 1], [\"Non-Smoker\", \"Smoker\"], fontsize=10)\n",
    "plt.tight_layout()\n",
    "plt.show()"
   ]
  },
  {
   "cell_type": "markdown",
   "metadata": {},
   "source": [
    "# Graph 2: Maternal Age Distribution (Histogram with Reference Line)\n",
    "Create a histogram of maternal ages with a vertical reference line at 27 years to visualize the distribution and central tendency."
   ]
  },
  {
   "cell_type": "code",
   "execution_count": null,
   "metadata": {},
   "outputs": [],
   "source": [
    "# Create a histogram of maternal ages with a vertical reference line at 27 years\n",
    "plt.figure(figsize=(10, 6))\n",
    "sns.histplot(data['Maternal Age'], bins=20, kde=False, color='skyblue', edgecolor='black')\n",
    "plt.axvline(x=27, color='red', linestyle='--', linewidth=2, label='Reference Line (27 years)')\n",
    "plt.title(\"Maternal Age Distribution\", fontsize=16)\n",
    "plt.xlabel(\"Maternal Age\", fontsize=12)\n",
    "plt.ylabel(\"Frequency\", fontsize=12)\n",
    "plt.legend(fontsize=10)\n",
    "plt.tight_layout()\n",
    "plt.show()"
   ]
  },
  {
   "cell_type": "markdown",
   "metadata": {},
   "source": [
    "# Graph 3: Maternal Age Distribution (Boxplot)\n",
    "Create a boxplot of maternal ages to display median, quartiles, outliers, and overall distribution shape."
   ]
  },
  {
   "cell_type": "code",
   "execution_count": null,
   "metadata": {},
   "outputs": [],
   "source": [
    "# Create a boxplot for maternal age distribution\n",
    "plt.figure(figsize=(8, 6))\n",
    "sns.boxplot(x=data['Maternal Age'], color='lightblue')\n",
    "plt.title(\"Maternal Age Distribution (Boxplot)\", fontsize=16)\n",
    "plt.xlabel(\"Maternal Age\", fontsize=12)\n",
    "plt.tight_layout()\n",
    "plt.show()"
   ]
  },
  {
   "cell_type": "markdown",
   "metadata": {},
   "source": [
    "# Graph 4: Birth Weight by Smoking Status (Side-by-side Boxplots)\n",
    "Create side-by-side boxplots comparing birth weight distributions between smokers and non-smokers to visualize the effect of smoking."
   ]
  },
  {
   "cell_type": "code",
   "execution_count": null,
   "metadata": {},
   "outputs": [],
   "source": [
    "# Create side-by-side boxplots for birth weight by smoking status\n",
    "plt.figure(figsize=(10, 6))\n",
    "sns.boxplot(x='Maternal Smoker', y='Birth Weight', data=data, palette=\"pastel\")\n",
    "plt.title(\"Birth Weight by Smoking Status\", fontsize=16)\n",
    "plt.xlabel(\"Maternal Smoker\", fontsize=12)\n",
    "plt.ylabel(\"Birth Weight (grams)\", fontsize=12)\n",
    "plt.xticks([0, 1], [\"Non-Smoker\", \"Smoker\"], fontsize=10)\n",
    "plt.tight_layout()\n",
    "plt.show()"
   ]
  },
  {
   "cell_type": "markdown",
   "metadata": {},
   "source": [
    "# Graph 5A: Gestational Days by Smoking Status (Side-by-side Boxplots)\n",
    "Create side-by-side boxplots comparing gestational periods between smokers and non-smokers to test if smoking affects pregnancy length."
   ]
  },
  {
   "cell_type": "code",
   "execution_count": null,
   "metadata": {},
   "outputs": [],
   "source": [
    "# Create side-by-side boxplots for gestational days by smoking status\n",
    "plt.figure(figsize=(10, 6))\n",
    "sns.boxplot(x='Maternal Smoker', y='Gestational Days', data=data, palette=\"pastel\")\n",
    "plt.title(\"Gestational Days by Smoking Status\", fontsize=16)\n",
    "plt.xlabel(\"Maternal Smoker\", fontsize=12)\n",
    "plt.ylabel(\"Gestational Days\", fontsize=12)\n",
    "plt.xticks([0, 1], [\"Non-Smoker\", \"Smoker\"], fontsize=10)\n",
    "plt.tight_layout()\n",
    "plt.show()"
   ]
  },
  {
   "cell_type": "markdown",
   "metadata": {},
   "source": [
    "# Graph 5B: Birth Weight by Age Groups (Side-by-side Boxplots)\n",
    "Create age groups (<25 and ≥30 years) and generate side-by-side boxplots comparing birth weights between younger and older mothers."
   ]
  },
  {
   "cell_type": "code",
   "execution_count": null,
   "metadata": {},
   "outputs": [],
   "source": [
    "# Create age groups: '<25' and '≥30'\n",
    "data['Age Group'] = pd.cut(data['Maternal Age'], bins=[0, 25, float('inf')], labels=['<25', '≥30'], right=False)\n",
    "\n",
    "# Create side-by-side boxplots for birth weight by age groups\n",
    "plt.figure(figsize=(10, 6))\n",
    "sns.boxplot(x='Age Group', y='Birth Weight', data=data, palette=\"pastel\")\n",
    "plt.title(\"Birth Weight by Age Groups\", fontsize=16)\n",
    "plt.xlabel(\"Age Group\", fontsize=12)\n",
    "plt.ylabel(\"Birth Weight (grams)\", fontsize=12)\n",
    "plt.tight_layout()\n",
    "plt.show()"
   ]
  },
  {
   "cell_type": "markdown",
   "metadata": {},
   "source": [
    "# Graph 5C: Birth Weight by Gestational Period (Side-by-side Boxplots)\n",
    "Create gestational period groups (<280 and ≥280 days) and generate side-by-side boxplots comparing birth weights between pre-term and full-term babies."
   ]
  },
  {
   "cell_type": "code",
   "execution_count": null,
   "metadata": {},
   "outputs": [],
   "source": [
    "# Create gestational period groups: '<280 days' and '≥280 days'\n",
    "data['Gestational Period'] = pd.cut(data['Gestational Days'], bins=[0, 280, float('inf')], labels=['<280 days', '≥280 days'], right=False)\n",
    "\n",
    "# Create side-by-side boxplots for birth weight by gestational period\n",
    "plt.figure(figsize=(10, 6))\n",
    "sns.boxplot(x='Gestational Period', y='Birth Weight', data=data, palette=\"pastel\")\n",
    "plt.title(\"Birth Weight by Gestational Period\", fontsize=16)\n",
    "plt.xlabel(\"Gestational Period\", fontsize=12)\n",
    "plt.ylabel(\"Birth Weight (grams)\", fontsize=12)\n",
    "plt.tight_layout()\n",
    "plt.show()"
   ]
  },
  {
   "cell_type": "markdown",
   "metadata": {},
   "source": [
    "# Graph 6: Overall Birth Weight Distribution (Histogram)\n",
    "Create a histogram of birth weights to understand the overall distribution, check for normality, and identify potential outliers."
   ]
  },
  {
   "cell_type": "code",
   "execution_count": null,
   "metadata": {},
   "outputs": [],
   "source": [
    "# Create a histogram for overall birth weight distribution\n",
    "plt.figure(figsize=(10, 6))\n",
    "sns.histplot(data['Birth Weight'], bins=30, kde=False, color='skyblue', edgecolor='black')\n",
    "plt.title(\"Overall Birth Weight Distribution\", fontsize=16)\n",
    "plt.xlabel(\"Birth Weight (grams)\", fontsize=12)\n",
    "plt.ylabel(\"Frequency\", fontsize=12)\n",
    "plt.tight_layout()\n",
    "plt.show()"
   ]
  },
  {
   "cell_type": "markdown",
   "metadata": {},
   "source": [
    "# Graph 7: Gestational Days vs Birth Weight (Scatterplot)\n",
    "Create a scatterplot with gestational days on the x-axis and birth weight on the y-axis to explore the relationship between pregnancy length and birth weight."
   ]
  },
  {
   "cell_type": "code",
   "execution_count": null,
   "metadata": {},
   "outputs": [],
   "source": [
    "# Create a scatterplot for gestational days vs birth weight\n",
    "plt.figure(figsize=(10, 6))\n",
    "sns.scatterplot(x='Gestational Days', y='Birth Weight', data=data, color='blue', alpha=0.6, edgecolor=None)\n",
    "plt.title(\"Gestational Days vs Birth Weight\", fontsize=16)\n",
    "plt.xlabel(\"Gestational Days\", fontsize=12)\n",
    "plt.ylabel(\"Birth Weight (grams)\", fontsize=12)\n",
    "plt.tight_layout()\n",
    "plt.show()"
   ]
  },
  {
   "cell_type": "markdown",
   "metadata": {},
   "source": [
    "# Graph 8: Maternal Pregnancy Weight vs Birth Weight (Scatterplot)\n",
    "Create a scatterplot with maternal pregnancy weight on the x-axis and birth weight on the y-axis to explore the relationship between mother's weight and baby's birth weight."
   ]
  },
  {
   "cell_type": "code",
   "execution_count": null,
   "metadata": {},
   "outputs": [],
   "source": [
    "# Create a scatterplot for maternal pregnancy weight vs birth weight\n",
    "plt.figure(figsize=(10, 6))\n",
    "sns.scatterplot(x='Maternal Pregnancy Weight', y='Birth Weight', data=data, color='green', alpha=0.6, edgecolor=None)\n",
    "plt.title(\"Maternal Pregnancy Weight vs Birth Weight\", fontsize=16)\n",
    "plt.xlabel(\"Maternal Pregnancy Weight (lbs)\", fontsize=12)\n",
    "plt.ylabel(\"Birth Weight (grams)\", fontsize=12)\n",
    "plt.tight_layout()\n",
    "plt.show()"
   ]
  }
 ],
 "metadata": {
  "language_info": {
   "name": "python"
  }
 },
 "nbformat": 4,
 "nbformat_minor": 2
}
