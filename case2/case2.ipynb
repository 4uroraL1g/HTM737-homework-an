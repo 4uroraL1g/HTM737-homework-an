{
 "cells": [
  {
   "cell_type": "code",
   "execution_count": 1,
   "metadata": {},
   "outputs": [],
   "source": [
    "import pandas as pd\n",
    "import numpy as np\n",
    "import matplotlib.pyplot as plt"
   ]
  },
  {
   "cell_type": "code",
   "execution_count": 2,
   "metadata": {},
   "outputs": [
    {
     "name": "stdout",
     "output_type": "stream",
     "text": [
      "   Birth Weight  Gestational Days  Maternal Age  Maternal Height  \\\n",
      "0           120               284            27               62   \n",
      "1           113               282            33               64   \n",
      "2           128               279            28               64   \n",
      "3           108               282            23               67   \n",
      "4           136               286            25               62   \n",
      "\n",
      "   Maternal Pregnancy Weight  Maternal Smoker  \n",
      "0                        100            False  \n",
      "1                        135            False  \n",
      "2                        115             True  \n",
      "3                        125             True  \n",
      "4                         93            False  \n"
     ]
    }
   ],
   "source": [
    "df = pd.read_csv('data.csv')\n",
    "print(df.head())"
   ]
  },
  {
   "cell_type": "code",
   "execution_count": null,
   "metadata": {},
   "outputs": [],
   "source": []
  }
 ],
 "metadata": {
  "kernelspec": {
   "display_name": "base",
   "language": "python",
   "name": "python3"
  },
  "language_info": {
   "codemirror_mode": {
    "name": "ipython",
    "version": 3
   },
   "file_extension": ".py",
   "mimetype": "text/x-python",
   "name": "python",
   "nbconvert_exporter": "python",
   "pygments_lexer": "ipython3",
   "version": "3.10.18"
  }
 },
 "nbformat": 4,
 "nbformat_minor": 2
}
